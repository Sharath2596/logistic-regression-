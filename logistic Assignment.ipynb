{
  "cells": [
    {
      "metadata": {
        "trusted": true
      },
      "cell_type": "code",
      "source": "import pandas as pd\nimport numpy as np\n%matplotlib inline\nimport matplotlib.pyplot as plt\nfrom sklearn.linear_model import LogisticRegression\nfrom sklearn import preprocessing",
      "execution_count": 105,
      "outputs": []
    },
    {
      "metadata": {
        "trusted": true
      },
      "cell_type": "code",
      "source": "#read csv file\ndf=pd.read_csv(\"bank-full.csv\")",
      "execution_count": 2,
      "outputs": []
    },
    {
      "metadata": {
        "trusted": true
      },
      "cell_type": "code",
      "source": "df",
      "execution_count": 3,
      "outputs": [
        {
          "output_type": "execute_result",
          "execution_count": 3,
          "data": {
            "text/plain": "      age;\"job\";\"marital\";\"education\";\"default\";\"balance\";\"housing\";\"loan\";\"contact\";\"day\";\"month\";\"duration\";\"campaign\";\"pdays\";\"previous\";\"poutcome\";\"y\"\n0      58;\"management\";\"married\";\"tertiary\";\"no\";2143...                                                                                                  \n1      44;\"technician\";\"single\";\"secondary\";\"no\";29;\"...                                                                                                  \n2      33;\"entrepreneur\";\"married\";\"secondary\";\"no\";2...                                                                                                  \n3      47;\"blue-collar\";\"married\";\"unknown\";\"no\";1506...                                                                                                  \n4      33;\"unknown\";\"single\";\"unknown\";\"no\";1;\"no\";\"n...                                                                                                  \n...                                                  ...                                                                                                  \n45206  51;\"technician\";\"married\";\"tertiary\";\"no\";825;...                                                                                                  \n45207  71;\"retired\";\"divorced\";\"primary\";\"no\";1729;\"n...                                                                                                  \n45208  72;\"retired\";\"married\";\"secondary\";\"no\";5715;\"...                                                                                                  \n45209  57;\"blue-collar\";\"married\";\"secondary\";\"no\";66...                                                                                                  \n45210  37;\"entrepreneur\";\"married\";\"secondary\";\"no\";2...                                                                                                  \n\n[45211 rows x 1 columns]",
            "text/html": "<div>\n<style scoped>\n    .dataframe tbody tr th:only-of-type {\n        vertical-align: middle;\n    }\n\n    .dataframe tbody tr th {\n        vertical-align: top;\n    }\n\n    .dataframe thead th {\n        text-align: right;\n    }\n</style>\n<table border=\"1\" class=\"dataframe\">\n  <thead>\n    <tr style=\"text-align: right;\">\n      <th></th>\n      <th>age;\"job\";\"marital\";\"education\";\"default\";\"balance\";\"housing\";\"loan\";\"contact\";\"day\";\"month\";\"duration\";\"campaign\";\"pdays\";\"previous\";\"poutcome\";\"y\"</th>\n    </tr>\n  </thead>\n  <tbody>\n    <tr>\n      <th>0</th>\n      <td>58;\"management\";\"married\";\"tertiary\";\"no\";2143...</td>\n    </tr>\n    <tr>\n      <th>1</th>\n      <td>44;\"technician\";\"single\";\"secondary\";\"no\";29;\"...</td>\n    </tr>\n    <tr>\n      <th>2</th>\n      <td>33;\"entrepreneur\";\"married\";\"secondary\";\"no\";2...</td>\n    </tr>\n    <tr>\n      <th>3</th>\n      <td>47;\"blue-collar\";\"married\";\"unknown\";\"no\";1506...</td>\n    </tr>\n    <tr>\n      <th>4</th>\n      <td>33;\"unknown\";\"single\";\"unknown\";\"no\";1;\"no\";\"n...</td>\n    </tr>\n    <tr>\n      <th>...</th>\n      <td>...</td>\n    </tr>\n    <tr>\n      <th>45206</th>\n      <td>51;\"technician\";\"married\";\"tertiary\";\"no\";825;...</td>\n    </tr>\n    <tr>\n      <th>45207</th>\n      <td>71;\"retired\";\"divorced\";\"primary\";\"no\";1729;\"n...</td>\n    </tr>\n    <tr>\n      <th>45208</th>\n      <td>72;\"retired\";\"married\";\"secondary\";\"no\";5715;\"...</td>\n    </tr>\n    <tr>\n      <th>45209</th>\n      <td>57;\"blue-collar\";\"married\";\"secondary\";\"no\";66...</td>\n    </tr>\n    <tr>\n      <th>45210</th>\n      <td>37;\"entrepreneur\";\"married\";\"secondary\";\"no\";2...</td>\n    </tr>\n  </tbody>\n</table>\n<p>45211 rows × 1 columns</p>\n</div>"
          },
          "metadata": {}
        }
      ]
    },
    {
      "metadata": {
        "trusted": true
      },
      "cell_type": "code",
      "source": "df=pd.read_csv(\"bank-full.csv\",sep=';')",
      "execution_count": 4,
      "outputs": []
    },
    {
      "metadata": {
        "trusted": true
      },
      "cell_type": "code",
      "source": "df",
      "execution_count": 5,
      "outputs": [
        {
          "output_type": "execute_result",
          "execution_count": 5,
          "data": {
            "text/plain": "       age           job   marital  education default  balance housing loan  \\\n0       58    management   married   tertiary      no     2143     yes   no   \n1       44    technician    single  secondary      no       29     yes   no   \n2       33  entrepreneur   married  secondary      no        2     yes  yes   \n3       47   blue-collar   married    unknown      no     1506     yes   no   \n4       33       unknown    single    unknown      no        1      no   no   \n...    ...           ...       ...        ...     ...      ...     ...  ...   \n45206   51    technician   married   tertiary      no      825      no   no   \n45207   71       retired  divorced    primary      no     1729      no   no   \n45208   72       retired   married  secondary      no     5715      no   no   \n45209   57   blue-collar   married  secondary      no      668      no   no   \n45210   37  entrepreneur   married  secondary      no     2971      no   no   \n\n         contact  day month  duration  campaign  pdays  previous poutcome    y  \n0        unknown    5   may       261         1     -1         0  unknown   no  \n1        unknown    5   may       151         1     -1         0  unknown   no  \n2        unknown    5   may        76         1     -1         0  unknown   no  \n3        unknown    5   may        92         1     -1         0  unknown   no  \n4        unknown    5   may       198         1     -1         0  unknown   no  \n...          ...  ...   ...       ...       ...    ...       ...      ...  ...  \n45206   cellular   17   nov       977         3     -1         0  unknown  yes  \n45207   cellular   17   nov       456         2     -1         0  unknown  yes  \n45208   cellular   17   nov      1127         5    184         3  success  yes  \n45209  telephone   17   nov       508         4     -1         0  unknown   no  \n45210   cellular   17   nov       361         2    188        11    other   no  \n\n[45211 rows x 17 columns]",
            "text/html": "<div>\n<style scoped>\n    .dataframe tbody tr th:only-of-type {\n        vertical-align: middle;\n    }\n\n    .dataframe tbody tr th {\n        vertical-align: top;\n    }\n\n    .dataframe thead th {\n        text-align: right;\n    }\n</style>\n<table border=\"1\" class=\"dataframe\">\n  <thead>\n    <tr style=\"text-align: right;\">\n      <th></th>\n      <th>age</th>\n      <th>job</th>\n      <th>marital</th>\n      <th>education</th>\n      <th>default</th>\n      <th>balance</th>\n      <th>housing</th>\n      <th>loan</th>\n      <th>contact</th>\n      <th>day</th>\n      <th>month</th>\n      <th>duration</th>\n      <th>campaign</th>\n      <th>pdays</th>\n      <th>previous</th>\n      <th>poutcome</th>\n      <th>y</th>\n    </tr>\n  </thead>\n  <tbody>\n    <tr>\n      <th>0</th>\n      <td>58</td>\n      <td>management</td>\n      <td>married</td>\n      <td>tertiary</td>\n      <td>no</td>\n      <td>2143</td>\n      <td>yes</td>\n      <td>no</td>\n      <td>unknown</td>\n      <td>5</td>\n      <td>may</td>\n      <td>261</td>\n      <td>1</td>\n      <td>-1</td>\n      <td>0</td>\n      <td>unknown</td>\n      <td>no</td>\n    </tr>\n    <tr>\n      <th>1</th>\n      <td>44</td>\n      <td>technician</td>\n      <td>single</td>\n      <td>secondary</td>\n      <td>no</td>\n      <td>29</td>\n      <td>yes</td>\n      <td>no</td>\n      <td>unknown</td>\n      <td>5</td>\n      <td>may</td>\n      <td>151</td>\n      <td>1</td>\n      <td>-1</td>\n      <td>0</td>\n      <td>unknown</td>\n      <td>no</td>\n    </tr>\n    <tr>\n      <th>2</th>\n      <td>33</td>\n      <td>entrepreneur</td>\n      <td>married</td>\n      <td>secondary</td>\n      <td>no</td>\n      <td>2</td>\n      <td>yes</td>\n      <td>yes</td>\n      <td>unknown</td>\n      <td>5</td>\n      <td>may</td>\n      <td>76</td>\n      <td>1</td>\n      <td>-1</td>\n      <td>0</td>\n      <td>unknown</td>\n      <td>no</td>\n    </tr>\n    <tr>\n      <th>3</th>\n      <td>47</td>\n      <td>blue-collar</td>\n      <td>married</td>\n      <td>unknown</td>\n      <td>no</td>\n      <td>1506</td>\n      <td>yes</td>\n      <td>no</td>\n      <td>unknown</td>\n      <td>5</td>\n      <td>may</td>\n      <td>92</td>\n      <td>1</td>\n      <td>-1</td>\n      <td>0</td>\n      <td>unknown</td>\n      <td>no</td>\n    </tr>\n    <tr>\n      <th>4</th>\n      <td>33</td>\n      <td>unknown</td>\n      <td>single</td>\n      <td>unknown</td>\n      <td>no</td>\n      <td>1</td>\n      <td>no</td>\n      <td>no</td>\n      <td>unknown</td>\n      <td>5</td>\n      <td>may</td>\n      <td>198</td>\n      <td>1</td>\n      <td>-1</td>\n      <td>0</td>\n      <td>unknown</td>\n      <td>no</td>\n    </tr>\n    <tr>\n      <th>...</th>\n      <td>...</td>\n      <td>...</td>\n      <td>...</td>\n      <td>...</td>\n      <td>...</td>\n      <td>...</td>\n      <td>...</td>\n      <td>...</td>\n      <td>...</td>\n      <td>...</td>\n      <td>...</td>\n      <td>...</td>\n      <td>...</td>\n      <td>...</td>\n      <td>...</td>\n      <td>...</td>\n      <td>...</td>\n    </tr>\n    <tr>\n      <th>45206</th>\n      <td>51</td>\n      <td>technician</td>\n      <td>married</td>\n      <td>tertiary</td>\n      <td>no</td>\n      <td>825</td>\n      <td>no</td>\n      <td>no</td>\n      <td>cellular</td>\n      <td>17</td>\n      <td>nov</td>\n      <td>977</td>\n      <td>3</td>\n      <td>-1</td>\n      <td>0</td>\n      <td>unknown</td>\n      <td>yes</td>\n    </tr>\n    <tr>\n      <th>45207</th>\n      <td>71</td>\n      <td>retired</td>\n      <td>divorced</td>\n      <td>primary</td>\n      <td>no</td>\n      <td>1729</td>\n      <td>no</td>\n      <td>no</td>\n      <td>cellular</td>\n      <td>17</td>\n      <td>nov</td>\n      <td>456</td>\n      <td>2</td>\n      <td>-1</td>\n      <td>0</td>\n      <td>unknown</td>\n      <td>yes</td>\n    </tr>\n    <tr>\n      <th>45208</th>\n      <td>72</td>\n      <td>retired</td>\n      <td>married</td>\n      <td>secondary</td>\n      <td>no</td>\n      <td>5715</td>\n      <td>no</td>\n      <td>no</td>\n      <td>cellular</td>\n      <td>17</td>\n      <td>nov</td>\n      <td>1127</td>\n      <td>5</td>\n      <td>184</td>\n      <td>3</td>\n      <td>success</td>\n      <td>yes</td>\n    </tr>\n    <tr>\n      <th>45209</th>\n      <td>57</td>\n      <td>blue-collar</td>\n      <td>married</td>\n      <td>secondary</td>\n      <td>no</td>\n      <td>668</td>\n      <td>no</td>\n      <td>no</td>\n      <td>telephone</td>\n      <td>17</td>\n      <td>nov</td>\n      <td>508</td>\n      <td>4</td>\n      <td>-1</td>\n      <td>0</td>\n      <td>unknown</td>\n      <td>no</td>\n    </tr>\n    <tr>\n      <th>45210</th>\n      <td>37</td>\n      <td>entrepreneur</td>\n      <td>married</td>\n      <td>secondary</td>\n      <td>no</td>\n      <td>2971</td>\n      <td>no</td>\n      <td>no</td>\n      <td>cellular</td>\n      <td>17</td>\n      <td>nov</td>\n      <td>361</td>\n      <td>2</td>\n      <td>188</td>\n      <td>11</td>\n      <td>other</td>\n      <td>no</td>\n    </tr>\n  </tbody>\n</table>\n<p>45211 rows × 17 columns</p>\n</div>"
          },
          "metadata": {}
        }
      ]
    },
    {
      "metadata": {
        "trusted": true
      },
      "cell_type": "code",
      "source": "df.head()",
      "execution_count": 6,
      "outputs": [
        {
          "output_type": "execute_result",
          "execution_count": 6,
          "data": {
            "text/plain": "   age           job  marital  education default  balance housing loan  \\\n0   58    management  married   tertiary      no     2143     yes   no   \n1   44    technician   single  secondary      no       29     yes   no   \n2   33  entrepreneur  married  secondary      no        2     yes  yes   \n3   47   blue-collar  married    unknown      no     1506     yes   no   \n4   33       unknown   single    unknown      no        1      no   no   \n\n   contact  day month  duration  campaign  pdays  previous poutcome   y  \n0  unknown    5   may       261         1     -1         0  unknown  no  \n1  unknown    5   may       151         1     -1         0  unknown  no  \n2  unknown    5   may        76         1     -1         0  unknown  no  \n3  unknown    5   may        92         1     -1         0  unknown  no  \n4  unknown    5   may       198         1     -1         0  unknown  no  ",
            "text/html": "<div>\n<style scoped>\n    .dataframe tbody tr th:only-of-type {\n        vertical-align: middle;\n    }\n\n    .dataframe tbody tr th {\n        vertical-align: top;\n    }\n\n    .dataframe thead th {\n        text-align: right;\n    }\n</style>\n<table border=\"1\" class=\"dataframe\">\n  <thead>\n    <tr style=\"text-align: right;\">\n      <th></th>\n      <th>age</th>\n      <th>job</th>\n      <th>marital</th>\n      <th>education</th>\n      <th>default</th>\n      <th>balance</th>\n      <th>housing</th>\n      <th>loan</th>\n      <th>contact</th>\n      <th>day</th>\n      <th>month</th>\n      <th>duration</th>\n      <th>campaign</th>\n      <th>pdays</th>\n      <th>previous</th>\n      <th>poutcome</th>\n      <th>y</th>\n    </tr>\n  </thead>\n  <tbody>\n    <tr>\n      <th>0</th>\n      <td>58</td>\n      <td>management</td>\n      <td>married</td>\n      <td>tertiary</td>\n      <td>no</td>\n      <td>2143</td>\n      <td>yes</td>\n      <td>no</td>\n      <td>unknown</td>\n      <td>5</td>\n      <td>may</td>\n      <td>261</td>\n      <td>1</td>\n      <td>-1</td>\n      <td>0</td>\n      <td>unknown</td>\n      <td>no</td>\n    </tr>\n    <tr>\n      <th>1</th>\n      <td>44</td>\n      <td>technician</td>\n      <td>single</td>\n      <td>secondary</td>\n      <td>no</td>\n      <td>29</td>\n      <td>yes</td>\n      <td>no</td>\n      <td>unknown</td>\n      <td>5</td>\n      <td>may</td>\n      <td>151</td>\n      <td>1</td>\n      <td>-1</td>\n      <td>0</td>\n      <td>unknown</td>\n      <td>no</td>\n    </tr>\n    <tr>\n      <th>2</th>\n      <td>33</td>\n      <td>entrepreneur</td>\n      <td>married</td>\n      <td>secondary</td>\n      <td>no</td>\n      <td>2</td>\n      <td>yes</td>\n      <td>yes</td>\n      <td>unknown</td>\n      <td>5</td>\n      <td>may</td>\n      <td>76</td>\n      <td>1</td>\n      <td>-1</td>\n      <td>0</td>\n      <td>unknown</td>\n      <td>no</td>\n    </tr>\n    <tr>\n      <th>3</th>\n      <td>47</td>\n      <td>blue-collar</td>\n      <td>married</td>\n      <td>unknown</td>\n      <td>no</td>\n      <td>1506</td>\n      <td>yes</td>\n      <td>no</td>\n      <td>unknown</td>\n      <td>5</td>\n      <td>may</td>\n      <td>92</td>\n      <td>1</td>\n      <td>-1</td>\n      <td>0</td>\n      <td>unknown</td>\n      <td>no</td>\n    </tr>\n    <tr>\n      <th>4</th>\n      <td>33</td>\n      <td>unknown</td>\n      <td>single</td>\n      <td>unknown</td>\n      <td>no</td>\n      <td>1</td>\n      <td>no</td>\n      <td>no</td>\n      <td>unknown</td>\n      <td>5</td>\n      <td>may</td>\n      <td>198</td>\n      <td>1</td>\n      <td>-1</td>\n      <td>0</td>\n      <td>unknown</td>\n      <td>no</td>\n    </tr>\n  </tbody>\n</table>\n</div>"
          },
          "metadata": {}
        }
      ]
    },
    {
      "metadata": {
        "trusted": true
      },
      "cell_type": "code",
      "source": "df.tail()",
      "execution_count": 7,
      "outputs": [
        {
          "output_type": "execute_result",
          "execution_count": 7,
          "data": {
            "text/plain": "       age           job   marital  education default  balance housing loan  \\\n45206   51    technician   married   tertiary      no      825      no   no   \n45207   71       retired  divorced    primary      no     1729      no   no   \n45208   72       retired   married  secondary      no     5715      no   no   \n45209   57   blue-collar   married  secondary      no      668      no   no   \n45210   37  entrepreneur   married  secondary      no     2971      no   no   \n\n         contact  day month  duration  campaign  pdays  previous poutcome    y  \n45206   cellular   17   nov       977         3     -1         0  unknown  yes  \n45207   cellular   17   nov       456         2     -1         0  unknown  yes  \n45208   cellular   17   nov      1127         5    184         3  success  yes  \n45209  telephone   17   nov       508         4     -1         0  unknown   no  \n45210   cellular   17   nov       361         2    188        11    other   no  ",
            "text/html": "<div>\n<style scoped>\n    .dataframe tbody tr th:only-of-type {\n        vertical-align: middle;\n    }\n\n    .dataframe tbody tr th {\n        vertical-align: top;\n    }\n\n    .dataframe thead th {\n        text-align: right;\n    }\n</style>\n<table border=\"1\" class=\"dataframe\">\n  <thead>\n    <tr style=\"text-align: right;\">\n      <th></th>\n      <th>age</th>\n      <th>job</th>\n      <th>marital</th>\n      <th>education</th>\n      <th>default</th>\n      <th>balance</th>\n      <th>housing</th>\n      <th>loan</th>\n      <th>contact</th>\n      <th>day</th>\n      <th>month</th>\n      <th>duration</th>\n      <th>campaign</th>\n      <th>pdays</th>\n      <th>previous</th>\n      <th>poutcome</th>\n      <th>y</th>\n    </tr>\n  </thead>\n  <tbody>\n    <tr>\n      <th>45206</th>\n      <td>51</td>\n      <td>technician</td>\n      <td>married</td>\n      <td>tertiary</td>\n      <td>no</td>\n      <td>825</td>\n      <td>no</td>\n      <td>no</td>\n      <td>cellular</td>\n      <td>17</td>\n      <td>nov</td>\n      <td>977</td>\n      <td>3</td>\n      <td>-1</td>\n      <td>0</td>\n      <td>unknown</td>\n      <td>yes</td>\n    </tr>\n    <tr>\n      <th>45207</th>\n      <td>71</td>\n      <td>retired</td>\n      <td>divorced</td>\n      <td>primary</td>\n      <td>no</td>\n      <td>1729</td>\n      <td>no</td>\n      <td>no</td>\n      <td>cellular</td>\n      <td>17</td>\n      <td>nov</td>\n      <td>456</td>\n      <td>2</td>\n      <td>-1</td>\n      <td>0</td>\n      <td>unknown</td>\n      <td>yes</td>\n    </tr>\n    <tr>\n      <th>45208</th>\n      <td>72</td>\n      <td>retired</td>\n      <td>married</td>\n      <td>secondary</td>\n      <td>no</td>\n      <td>5715</td>\n      <td>no</td>\n      <td>no</td>\n      <td>cellular</td>\n      <td>17</td>\n      <td>nov</td>\n      <td>1127</td>\n      <td>5</td>\n      <td>184</td>\n      <td>3</td>\n      <td>success</td>\n      <td>yes</td>\n    </tr>\n    <tr>\n      <th>45209</th>\n      <td>57</td>\n      <td>blue-collar</td>\n      <td>married</td>\n      <td>secondary</td>\n      <td>no</td>\n      <td>668</td>\n      <td>no</td>\n      <td>no</td>\n      <td>telephone</td>\n      <td>17</td>\n      <td>nov</td>\n      <td>508</td>\n      <td>4</td>\n      <td>-1</td>\n      <td>0</td>\n      <td>unknown</td>\n      <td>no</td>\n    </tr>\n    <tr>\n      <th>45210</th>\n      <td>37</td>\n      <td>entrepreneur</td>\n      <td>married</td>\n      <td>secondary</td>\n      <td>no</td>\n      <td>2971</td>\n      <td>no</td>\n      <td>no</td>\n      <td>cellular</td>\n      <td>17</td>\n      <td>nov</td>\n      <td>361</td>\n      <td>2</td>\n      <td>188</td>\n      <td>11</td>\n      <td>other</td>\n      <td>no</td>\n    </tr>\n  </tbody>\n</table>\n</div>"
          },
          "metadata": {}
        }
      ]
    },
    {
      "metadata": {
        "trusted": true
      },
      "cell_type": "code",
      "source": "df.describe()",
      "execution_count": 9,
      "outputs": [
        {
          "output_type": "execute_result",
          "execution_count": 9,
          "data": {
            "text/plain": "                age        balance           day      duration      campaign  \\\ncount  45211.000000   45211.000000  45211.000000  45211.000000  45211.000000   \nmean      40.936210    1362.272058     15.806419    258.163080      2.763841   \nstd       10.618762    3044.765829      8.322476    257.527812      3.098021   \nmin       18.000000   -8019.000000      1.000000      0.000000      1.000000   \n25%       33.000000      72.000000      8.000000    103.000000      1.000000   \n50%       39.000000     448.000000     16.000000    180.000000      2.000000   \n75%       48.000000    1428.000000     21.000000    319.000000      3.000000   \nmax       95.000000  102127.000000     31.000000   4918.000000     63.000000   \n\n              pdays      previous  \ncount  45211.000000  45211.000000  \nmean      40.197828      0.580323  \nstd      100.128746      2.303441  \nmin       -1.000000      0.000000  \n25%       -1.000000      0.000000  \n50%       -1.000000      0.000000  \n75%       -1.000000      0.000000  \nmax      871.000000    275.000000  ",
            "text/html": "<div>\n<style scoped>\n    .dataframe tbody tr th:only-of-type {\n        vertical-align: middle;\n    }\n\n    .dataframe tbody tr th {\n        vertical-align: top;\n    }\n\n    .dataframe thead th {\n        text-align: right;\n    }\n</style>\n<table border=\"1\" class=\"dataframe\">\n  <thead>\n    <tr style=\"text-align: right;\">\n      <th></th>\n      <th>age</th>\n      <th>balance</th>\n      <th>day</th>\n      <th>duration</th>\n      <th>campaign</th>\n      <th>pdays</th>\n      <th>previous</th>\n    </tr>\n  </thead>\n  <tbody>\n    <tr>\n      <th>count</th>\n      <td>45211.000000</td>\n      <td>45211.000000</td>\n      <td>45211.000000</td>\n      <td>45211.000000</td>\n      <td>45211.000000</td>\n      <td>45211.000000</td>\n      <td>45211.000000</td>\n    </tr>\n    <tr>\n      <th>mean</th>\n      <td>40.936210</td>\n      <td>1362.272058</td>\n      <td>15.806419</td>\n      <td>258.163080</td>\n      <td>2.763841</td>\n      <td>40.197828</td>\n      <td>0.580323</td>\n    </tr>\n    <tr>\n      <th>std</th>\n      <td>10.618762</td>\n      <td>3044.765829</td>\n      <td>8.322476</td>\n      <td>257.527812</td>\n      <td>3.098021</td>\n      <td>100.128746</td>\n      <td>2.303441</td>\n    </tr>\n    <tr>\n      <th>min</th>\n      <td>18.000000</td>\n      <td>-8019.000000</td>\n      <td>1.000000</td>\n      <td>0.000000</td>\n      <td>1.000000</td>\n      <td>-1.000000</td>\n      <td>0.000000</td>\n    </tr>\n    <tr>\n      <th>25%</th>\n      <td>33.000000</td>\n      <td>72.000000</td>\n      <td>8.000000</td>\n      <td>103.000000</td>\n      <td>1.000000</td>\n      <td>-1.000000</td>\n      <td>0.000000</td>\n    </tr>\n    <tr>\n      <th>50%</th>\n      <td>39.000000</td>\n      <td>448.000000</td>\n      <td>16.000000</td>\n      <td>180.000000</td>\n      <td>2.000000</td>\n      <td>-1.000000</td>\n      <td>0.000000</td>\n    </tr>\n    <tr>\n      <th>75%</th>\n      <td>48.000000</td>\n      <td>1428.000000</td>\n      <td>21.000000</td>\n      <td>319.000000</td>\n      <td>3.000000</td>\n      <td>-1.000000</td>\n      <td>0.000000</td>\n    </tr>\n    <tr>\n      <th>max</th>\n      <td>95.000000</td>\n      <td>102127.000000</td>\n      <td>31.000000</td>\n      <td>4918.000000</td>\n      <td>63.000000</td>\n      <td>871.000000</td>\n      <td>275.000000</td>\n    </tr>\n  </tbody>\n</table>\n</div>"
          },
          "metadata": {}
        }
      ]
    },
    {
      "metadata": {
        "trusted": true
      },
      "cell_type": "code",
      "source": "df.groupby('y').mean()",
      "execution_count": 10,
      "outputs": [
        {
          "output_type": "execute_result",
          "execution_count": 10,
          "data": {
            "text/plain": "           age      balance        day    duration  campaign      pdays  \\\ny                                                                         \nno   40.838986  1303.714969  15.892290  221.182806  2.846350  36.421372   \nyes  41.670070  1804.267915  15.158253  537.294574  2.141047  68.702968   \n\n     previous  \ny              \nno   0.502154  \nyes  1.170354  ",
            "text/html": "<div>\n<style scoped>\n    .dataframe tbody tr th:only-of-type {\n        vertical-align: middle;\n    }\n\n    .dataframe tbody tr th {\n        vertical-align: top;\n    }\n\n    .dataframe thead th {\n        text-align: right;\n    }\n</style>\n<table border=\"1\" class=\"dataframe\">\n  <thead>\n    <tr style=\"text-align: right;\">\n      <th></th>\n      <th>age</th>\n      <th>balance</th>\n      <th>day</th>\n      <th>duration</th>\n      <th>campaign</th>\n      <th>pdays</th>\n      <th>previous</th>\n    </tr>\n    <tr>\n      <th>y</th>\n      <th></th>\n      <th></th>\n      <th></th>\n      <th></th>\n      <th></th>\n      <th></th>\n      <th></th>\n    </tr>\n  </thead>\n  <tbody>\n    <tr>\n      <th>no</th>\n      <td>40.838986</td>\n      <td>1303.714969</td>\n      <td>15.892290</td>\n      <td>221.182806</td>\n      <td>2.846350</td>\n      <td>36.421372</td>\n      <td>0.502154</td>\n    </tr>\n    <tr>\n      <th>yes</th>\n      <td>41.670070</td>\n      <td>1804.267915</td>\n      <td>15.158253</td>\n      <td>537.294574</td>\n      <td>2.141047</td>\n      <td>68.702968</td>\n      <td>1.170354</td>\n    </tr>\n  </tbody>\n</table>\n</div>"
          },
          "metadata": {}
        }
      ]
    },
    {
      "metadata": {
        "trusted": true
      },
      "cell_type": "code",
      "source": "df['y'].value_counts()",
      "execution_count": 11,
      "outputs": [
        {
          "output_type": "execute_result",
          "execution_count": 11,
          "data": {
            "text/plain": "no     39922\nyes     5289\nName: y, dtype: int64"
          },
          "metadata": {}
        }
      ]
    },
    {
      "metadata": {
        "trusted": true,
        "scrolled": true
      },
      "cell_type": "code",
      "source": "dummy=pd.get_dummies(df,columns=['job','marital','education','default','housing','loan','contact','month',\n                                'poutcome','y'])",
      "execution_count": 97,
      "outputs": []
    },
    {
      "metadata": {
        "trusted": true,
        "scrolled": false
      },
      "cell_type": "code",
      "source": "dummy",
      "execution_count": 98,
      "outputs": [
        {
          "output_type": "execute_result",
          "execution_count": 98,
          "data": {
            "text/plain": "       age  balance  day  duration  campaign  pdays  previous  job_admin.  \\\n0       58     2143    5       261         1     -1         0           0   \n1       44       29    5       151         1     -1         0           0   \n2       33        2    5        76         1     -1         0           0   \n3       47     1506    5        92         1     -1         0           0   \n4       33        1    5       198         1     -1         0           0   \n...    ...      ...  ...       ...       ...    ...       ...         ...   \n45206   51      825   17       977         3     -1         0           0   \n45207   71     1729   17       456         2     -1         0           0   \n45208   72     5715   17      1127         5    184         3           0   \n45209   57      668   17       508         4     -1         0           0   \n45210   37     2971   17       361         2    188        11           0   \n\n       job_blue-collar  job_entrepreneur  ...  month_may  month_nov  \\\n0                    0                 0  ...          1          0   \n1                    0                 0  ...          1          0   \n2                    0                 1  ...          1          0   \n3                    1                 0  ...          1          0   \n4                    0                 0  ...          1          0   \n...                ...               ...  ...        ...        ...   \n45206                0                 0  ...          0          1   \n45207                0                 0  ...          0          1   \n45208                0                 0  ...          0          1   \n45209                1                 0  ...          0          1   \n45210                0                 1  ...          0          1   \n\n       month_oct  month_sep  poutcome_failure  poutcome_other  \\\n0              0          0                 0               0   \n1              0          0                 0               0   \n2              0          0                 0               0   \n3              0          0                 0               0   \n4              0          0                 0               0   \n...          ...        ...               ...             ...   \n45206          0          0                 0               0   \n45207          0          0                 0               0   \n45208          0          0                 0               0   \n45209          0          0                 0               0   \n45210          0          0                 0               1   \n\n       poutcome_success  poutcome_unknown  y_no  y_yes  \n0                     0                 1     1      0  \n1                     0                 1     1      0  \n2                     0                 1     1      0  \n3                     0                 1     1      0  \n4                     0                 1     1      0  \n...                 ...               ...   ...    ...  \n45206                 0                 1     0      1  \n45207                 0                 1     0      1  \n45208                 1                 0     0      1  \n45209                 0                 1     1      0  \n45210                 0                 0     1      0  \n\n[45211 rows x 53 columns]",
            "text/html": "<div>\n<style scoped>\n    .dataframe tbody tr th:only-of-type {\n        vertical-align: middle;\n    }\n\n    .dataframe tbody tr th {\n        vertical-align: top;\n    }\n\n    .dataframe thead th {\n        text-align: right;\n    }\n</style>\n<table border=\"1\" class=\"dataframe\">\n  <thead>\n    <tr style=\"text-align: right;\">\n      <th></th>\n      <th>age</th>\n      <th>balance</th>\n      <th>day</th>\n      <th>duration</th>\n      <th>campaign</th>\n      <th>pdays</th>\n      <th>previous</th>\n      <th>job_admin.</th>\n      <th>job_blue-collar</th>\n      <th>job_entrepreneur</th>\n      <th>...</th>\n      <th>month_may</th>\n      <th>month_nov</th>\n      <th>month_oct</th>\n      <th>month_sep</th>\n      <th>poutcome_failure</th>\n      <th>poutcome_other</th>\n      <th>poutcome_success</th>\n      <th>poutcome_unknown</th>\n      <th>y_no</th>\n      <th>y_yes</th>\n    </tr>\n  </thead>\n  <tbody>\n    <tr>\n      <th>0</th>\n      <td>58</td>\n      <td>2143</td>\n      <td>5</td>\n      <td>261</td>\n      <td>1</td>\n      <td>-1</td>\n      <td>0</td>\n      <td>0</td>\n      <td>0</td>\n      <td>0</td>\n      <td>...</td>\n      <td>1</td>\n      <td>0</td>\n      <td>0</td>\n      <td>0</td>\n      <td>0</td>\n      <td>0</td>\n      <td>0</td>\n      <td>1</td>\n      <td>1</td>\n      <td>0</td>\n    </tr>\n    <tr>\n      <th>1</th>\n      <td>44</td>\n      <td>29</td>\n      <td>5</td>\n      <td>151</td>\n      <td>1</td>\n      <td>-1</td>\n      <td>0</td>\n      <td>0</td>\n      <td>0</td>\n      <td>0</td>\n      <td>...</td>\n      <td>1</td>\n      <td>0</td>\n      <td>0</td>\n      <td>0</td>\n      <td>0</td>\n      <td>0</td>\n      <td>0</td>\n      <td>1</td>\n      <td>1</td>\n      <td>0</td>\n    </tr>\n    <tr>\n      <th>2</th>\n      <td>33</td>\n      <td>2</td>\n      <td>5</td>\n      <td>76</td>\n      <td>1</td>\n      <td>-1</td>\n      <td>0</td>\n      <td>0</td>\n      <td>0</td>\n      <td>1</td>\n      <td>...</td>\n      <td>1</td>\n      <td>0</td>\n      <td>0</td>\n      <td>0</td>\n      <td>0</td>\n      <td>0</td>\n      <td>0</td>\n      <td>1</td>\n      <td>1</td>\n      <td>0</td>\n    </tr>\n    <tr>\n      <th>3</th>\n      <td>47</td>\n      <td>1506</td>\n      <td>5</td>\n      <td>92</td>\n      <td>1</td>\n      <td>-1</td>\n      <td>0</td>\n      <td>0</td>\n      <td>1</td>\n      <td>0</td>\n      <td>...</td>\n      <td>1</td>\n      <td>0</td>\n      <td>0</td>\n      <td>0</td>\n      <td>0</td>\n      <td>0</td>\n      <td>0</td>\n      <td>1</td>\n      <td>1</td>\n      <td>0</td>\n    </tr>\n    <tr>\n      <th>4</th>\n      <td>33</td>\n      <td>1</td>\n      <td>5</td>\n      <td>198</td>\n      <td>1</td>\n      <td>-1</td>\n      <td>0</td>\n      <td>0</td>\n      <td>0</td>\n      <td>0</td>\n      <td>...</td>\n      <td>1</td>\n      <td>0</td>\n      <td>0</td>\n      <td>0</td>\n      <td>0</td>\n      <td>0</td>\n      <td>0</td>\n      <td>1</td>\n      <td>1</td>\n      <td>0</td>\n    </tr>\n    <tr>\n      <th>...</th>\n      <td>...</td>\n      <td>...</td>\n      <td>...</td>\n      <td>...</td>\n      <td>...</td>\n      <td>...</td>\n      <td>...</td>\n      <td>...</td>\n      <td>...</td>\n      <td>...</td>\n      <td>...</td>\n      <td>...</td>\n      <td>...</td>\n      <td>...</td>\n      <td>...</td>\n      <td>...</td>\n      <td>...</td>\n      <td>...</td>\n      <td>...</td>\n      <td>...</td>\n      <td>...</td>\n    </tr>\n    <tr>\n      <th>45206</th>\n      <td>51</td>\n      <td>825</td>\n      <td>17</td>\n      <td>977</td>\n      <td>3</td>\n      <td>-1</td>\n      <td>0</td>\n      <td>0</td>\n      <td>0</td>\n      <td>0</td>\n      <td>...</td>\n      <td>0</td>\n      <td>1</td>\n      <td>0</td>\n      <td>0</td>\n      <td>0</td>\n      <td>0</td>\n      <td>0</td>\n      <td>1</td>\n      <td>0</td>\n      <td>1</td>\n    </tr>\n    <tr>\n      <th>45207</th>\n      <td>71</td>\n      <td>1729</td>\n      <td>17</td>\n      <td>456</td>\n      <td>2</td>\n      <td>-1</td>\n      <td>0</td>\n      <td>0</td>\n      <td>0</td>\n      <td>0</td>\n      <td>...</td>\n      <td>0</td>\n      <td>1</td>\n      <td>0</td>\n      <td>0</td>\n      <td>0</td>\n      <td>0</td>\n      <td>0</td>\n      <td>1</td>\n      <td>0</td>\n      <td>1</td>\n    </tr>\n    <tr>\n      <th>45208</th>\n      <td>72</td>\n      <td>5715</td>\n      <td>17</td>\n      <td>1127</td>\n      <td>5</td>\n      <td>184</td>\n      <td>3</td>\n      <td>0</td>\n      <td>0</td>\n      <td>0</td>\n      <td>...</td>\n      <td>0</td>\n      <td>1</td>\n      <td>0</td>\n      <td>0</td>\n      <td>0</td>\n      <td>0</td>\n      <td>1</td>\n      <td>0</td>\n      <td>0</td>\n      <td>1</td>\n    </tr>\n    <tr>\n      <th>45209</th>\n      <td>57</td>\n      <td>668</td>\n      <td>17</td>\n      <td>508</td>\n      <td>4</td>\n      <td>-1</td>\n      <td>0</td>\n      <td>0</td>\n      <td>1</td>\n      <td>0</td>\n      <td>...</td>\n      <td>0</td>\n      <td>1</td>\n      <td>0</td>\n      <td>0</td>\n      <td>0</td>\n      <td>0</td>\n      <td>0</td>\n      <td>1</td>\n      <td>1</td>\n      <td>0</td>\n    </tr>\n    <tr>\n      <th>45210</th>\n      <td>37</td>\n      <td>2971</td>\n      <td>17</td>\n      <td>361</td>\n      <td>2</td>\n      <td>188</td>\n      <td>11</td>\n      <td>0</td>\n      <td>0</td>\n      <td>1</td>\n      <td>...</td>\n      <td>0</td>\n      <td>1</td>\n      <td>0</td>\n      <td>0</td>\n      <td>0</td>\n      <td>1</td>\n      <td>0</td>\n      <td>0</td>\n      <td>1</td>\n      <td>0</td>\n    </tr>\n  </tbody>\n</table>\n<p>45211 rows × 53 columns</p>\n</div>"
          },
          "metadata": {}
        }
      ]
    },
    {
      "metadata": {
        "trusted": true,
        "scrolled": true
      },
      "cell_type": "code",
      "source": "dummy.shape",
      "execution_count": 87,
      "outputs": [
        {
          "output_type": "execute_result",
          "execution_count": 87,
          "data": {
            "text/plain": "(45211, 52)"
          },
          "metadata": {}
        }
      ]
    },
    {
      "metadata": {
        "trusted": true
      },
      "cell_type": "code",
      "source": "dummy.info()",
      "execution_count": 89,
      "outputs": [
        {
          "output_type": "stream",
          "text": "<class 'pandas.core.frame.DataFrame'>\nRangeIndex: 45211 entries, 0 to 45210\nData columns (total 52 columns):\n #   Column               Non-Null Count  Dtype \n---  ------               --------------  ----- \n 0   age                  45211 non-null  int64 \n 1   balance              45211 non-null  int64 \n 2   day                  45211 non-null  int64 \n 3   duration             45211 non-null  int64 \n 4   campaign             45211 non-null  int64 \n 5   pdays                45211 non-null  int64 \n 6   previous             45211 non-null  int64 \n 7   y                    45211 non-null  object\n 8   job_admin.           45211 non-null  uint8 \n 9   job_blue-collar      45211 non-null  uint8 \n 10  job_entrepreneur     45211 non-null  uint8 \n 11  job_housemaid        45211 non-null  uint8 \n 12  job_management       45211 non-null  uint8 \n 13  job_retired          45211 non-null  uint8 \n 14  job_self-employed    45211 non-null  uint8 \n 15  job_services         45211 non-null  uint8 \n 16  job_student          45211 non-null  uint8 \n 17  job_technician       45211 non-null  uint8 \n 18  job_unemployed       45211 non-null  uint8 \n 19  job_unknown          45211 non-null  uint8 \n 20  marital_divorced     45211 non-null  uint8 \n 21  marital_married      45211 non-null  uint8 \n 22  marital_single       45211 non-null  uint8 \n 23  education_primary    45211 non-null  uint8 \n 24  education_secondary  45211 non-null  uint8 \n 25  education_tertiary   45211 non-null  uint8 \n 26  education_unknown    45211 non-null  uint8 \n 27  default_no           45211 non-null  uint8 \n 28  default_yes          45211 non-null  uint8 \n 29  loan_no              45211 non-null  uint8 \n 30  loan_yes             45211 non-null  uint8 \n 31  month_apr            45211 non-null  uint8 \n 32  month_aug            45211 non-null  uint8 \n 33  month_dec            45211 non-null  uint8 \n 34  month_feb            45211 non-null  uint8 \n 35  month_jan            45211 non-null  uint8 \n 36  month_jul            45211 non-null  uint8 \n 37  month_jun            45211 non-null  uint8 \n 38  month_mar            45211 non-null  uint8 \n 39  month_may            45211 non-null  uint8 \n 40  month_nov            45211 non-null  uint8 \n 41  month_oct            45211 non-null  uint8 \n 42  month_sep            45211 non-null  uint8 \n 43  poutcome_failure     45211 non-null  uint8 \n 44  poutcome_other       45211 non-null  uint8 \n 45  poutcome_success     45211 non-null  uint8 \n 46  poutcome_unknown     45211 non-null  uint8 \n 47  contact_cellular     45211 non-null  uint8 \n 48  contact_telephone    45211 non-null  uint8 \n 49  contact_unknown      45211 non-null  uint8 \n 50  housing_no           45211 non-null  uint8 \n 51  housing_yes          45211 non-null  uint8 \ndtypes: int64(7), object(1), uint8(44)\nmemory usage: 4.7+ MB\n",
          "name": "stdout"
        }
      ]
    },
    {
      "metadata": {
        "trusted": true
      },
      "cell_type": "code",
      "source": "X=dummy.iloc[:,0:52]\nY=dummy.iloc[:,7]\nclassifier = LogisticRegression()\nclassifier.fit(X,Y)",
      "execution_count": 100,
      "outputs": [
        {
          "output_type": "stream",
          "text": "C:\\Users\\lenovo\\anaconda3\\lib\\site-packages\\sklearn\\linear_model\\_logistic.py:762: ConvergenceWarning: lbfgs failed to converge (status=1):\nSTOP: TOTAL NO. of ITERATIONS REACHED LIMIT.\n\nIncrease the number of iterations (max_iter) or scale the data as shown in:\n    https://scikit-learn.org/stable/modules/preprocessing.html\nPlease also refer to the documentation for alternative solver options:\n    https://scikit-learn.org/stable/modules/linear_model.html#logistic-regression\n  n_iter_i = _check_optimize_result(\n",
          "name": "stderr"
        },
        {
          "output_type": "execute_result",
          "execution_count": 100,
          "data": {
            "text/plain": "LogisticRegression()"
          },
          "metadata": {}
        }
      ]
    },
    {
      "metadata": {
        "trusted": true
      },
      "cell_type": "code",
      "source": "y_pred=classifier.predict_proba(X)",
      "execution_count": 101,
      "outputs": []
    },
    {
      "metadata": {
        "trusted": true
      },
      "cell_type": "code",
      "source": "y_pred",
      "execution_count": 102,
      "outputs": [
        {
          "output_type": "execute_result",
          "execution_count": 102,
          "data": {
            "text/plain": "array([[9.99999915e-01, 8.47214872e-08],\n       [9.99395834e-01, 6.04165850e-04],\n       [9.55248631e-01, 4.47513694e-02],\n       ...,\n       [9.99871151e-01, 1.28848931e-04],\n       [9.99980219e-01, 1.97807205e-05],\n       [9.98914231e-01, 1.08576921e-03]])"
          },
          "metadata": {}
        }
      ]
    },
    {
      "metadata": {
        "trusted": true
      },
      "cell_type": "code",
      "source": "y_pred=classifier.predict(X)",
      "execution_count": 103,
      "outputs": []
    },
    {
      "metadata": {
        "trusted": true
      },
      "cell_type": "code",
      "source": "y_pred",
      "execution_count": 104,
      "outputs": [
        {
          "output_type": "execute_result",
          "execution_count": 104,
          "data": {
            "text/plain": "array([0, 0, 0, ..., 0, 0, 0], dtype=uint8)"
          },
          "metadata": {}
        }
      ]
    },
    {
      "metadata": {
        "trusted": true
      },
      "cell_type": "code",
      "source": "from sklearn.metrics import confusion_matrix\nconfusion_matrix = confusion_matrix(Y,y_pred)\nprint(confusion_matrix)",
      "execution_count": 107,
      "outputs": [
        {
          "output_type": "stream",
          "text": "[[40040     0]\n [    4  5167]]\n",
          "name": "stdout"
        }
      ]
    },
    {
      "metadata": {
        "trusted": true
      },
      "cell_type": "code",
      "source": "accuracy=((40040+5167)/(40040+5167+4+0))*100",
      "execution_count": 108,
      "outputs": []
    },
    {
      "metadata": {
        "trusted": true
      },
      "cell_type": "code",
      "source": "accuracy",
      "execution_count": 109,
      "outputs": [
        {
          "output_type": "execute_result",
          "execution_count": 109,
          "data": {
            "text/plain": "99.99115259560728"
          },
          "metadata": {}
        }
      ]
    },
    {
      "metadata": {
        "trusted": true
      },
      "cell_type": "code",
      "source": "from  sklearn.metrics import roc_curve\nfrom  sklearn.metrics import roc_auc_score\n\nfpr,tpr,thresholds = roc_curve(Y,classifier.predict_proba(X)[:,1])\n\nauc=roc_auc_score(Y,y_pred)\n\nimport matplotlib.pyplot as plt\nplt.plot(fpr,tpr,color='orange',label='logic model (area=%0.2f)'%auc)\nplt.show()",
      "execution_count": 111,
      "outputs": [
        {
          "output_type": "display_data",
          "data": {
            "text/plain": "<Figure size 432x288 with 1 Axes>",
            "image/png": "[encoded data removed]"
          },
          "metadata": {
            "needs_background": "light"
          }
        }
      ]
    },
    {
      "metadata": {
        "trusted": true
      },
      "cell_type": "code",
      "source": "auc",
      "execution_count": 112,
      "outputs": [
        {
          "output_type": "execute_result",
          "execution_count": 112,
          "data": {
            "text/plain": "0.9996132276155483"
          },
          "metadata": {}
        }
      ]
    }
  ],
  "metadata": {
    "kernelspec": {
      "name": "python3",
      "display_name": "Python 3",
      "language": "python"
    },
    "language_info": {
      "name": "python",
      "version": "3.8.3",
      "mimetype": "text/x-python",
      "codemirror_mode": {
        "name": "ipython",
        "version": 3
      },
      "pygments_lexer": "ipython3",
      "nbconvert_exporter": "python",
      "file_extension": ".py"
    },
    "gist": {
      "id": "",
      "data": {
        "description": "Binomial Assignment-6.ipynb",
        "public": true
      }
    }
  },
  "nbformat": 4,
  "nbformat_minor": 4
}